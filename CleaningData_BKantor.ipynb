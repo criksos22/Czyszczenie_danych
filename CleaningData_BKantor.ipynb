{
 "cells": [
  {
   "cell_type": "code",
   "execution_count": 566,
   "metadata": {},
   "outputs": [],
   "source": [
    "# Cel zadania"
   ]
  },
  {
   "cell_type": "code",
   "execution_count": 567,
   "metadata": {},
   "outputs": [],
   "source": [
    "#### Celem zadania było zrozumienie, oczyszczenie i przeanalizowanie dostarczonego zbioru danych.\n",
    "#### Zbiorem roboczym jest \"TitanicMess.tsv\"."
   ]
  },
  {
   "cell_type": "code",
   "execution_count": 568,
   "metadata": {},
   "outputs": [],
   "source": [
    "# 1) Import bibliotek"
   ]
  },
  {
   "cell_type": "code",
   "execution_count": 569,
   "metadata": {},
   "outputs": [],
   "source": [
    "import pandas as pd\n",
    "import statistics"
   ]
  },
  {
   "cell_type": "code",
   "execution_count": 570,
   "metadata": {},
   "outputs": [],
   "source": [
    "#### Wczytanie roboczego zbioru danych."
   ]
  },
  {
   "cell_type": "code",
   "execution_count": 571,
   "metadata": {},
   "outputs": [],
   "source": [
    "tit = pd.read_csv('E:\\SIWB\\TitanicMess.tsv', sep = '\\t')"
   ]
  },
  {
   "cell_type": "code",
   "execution_count": 572,
   "metadata": {},
   "outputs": [],
   "source": [
    "#### Wyświetlenie zbioru za pomocą display'a w celu zapoznania się z zawartością pliku."
   ]
  },
  {
   "cell_type": "code",
   "execution_count": 573,
   "metadata": {},
   "outputs": [
    {
     "data": {
      "text/html": [
       "<div>\n",
       "<style scoped>\n",
       "    .dataframe tbody tr th:only-of-type {\n",
       "        vertical-align: middle;\n",
       "    }\n",
       "\n",
       "    .dataframe tbody tr th {\n",
       "        vertical-align: top;\n",
       "    }\n",
       "\n",
       "    .dataframe thead th {\n",
       "        text-align: right;\n",
       "    }\n",
       "</style>\n",
       "<table border=\"1\" class=\"dataframe\">\n",
       "  <thead>\n",
       "    <tr style=\"text-align: right;\">\n",
       "      <th></th>\n",
       "      <th>PassengerId</th>\n",
       "      <th>Survived</th>\n",
       "      <th>Pclass</th>\n",
       "      <th>Name</th>\n",
       "      <th>Sex</th>\n",
       "      <th>Age</th>\n",
       "      <th>SibSp</th>\n",
       "      <th>Parch</th>\n",
       "      <th>Ticket</th>\n",
       "      <th>Fare</th>\n",
       "      <th>Cabin</th>\n",
       "      <th>Embarked</th>\n",
       "      <th>ship</th>\n",
       "    </tr>\n",
       "  </thead>\n",
       "  <tbody>\n",
       "    <tr>\n",
       "      <th>0</th>\n",
       "      <td>1</td>\n",
       "      <td>0</td>\n",
       "      <td>3</td>\n",
       "      <td>Braund, Mr. Owen Harris</td>\n",
       "      <td>male</td>\n",
       "      <td>22</td>\n",
       "      <td>1</td>\n",
       "      <td>0</td>\n",
       "      <td>A/5 21171</td>\n",
       "      <td>7,25</td>\n",
       "      <td>NaN</td>\n",
       "      <td>S</td>\n",
       "      <td>Titanic</td>\n",
       "    </tr>\n",
       "    <tr>\n",
       "      <th>1</th>\n",
       "      <td>2</td>\n",
       "      <td>1</td>\n",
       "      <td>1</td>\n",
       "      <td>Cumings, Mrs. John Bradley (Florence Briggs Th...</td>\n",
       "      <td>female</td>\n",
       "      <td>38</td>\n",
       "      <td>1</td>\n",
       "      <td>0</td>\n",
       "      <td>PC 17599</td>\n",
       "      <td>71,2833</td>\n",
       "      <td>C85</td>\n",
       "      <td>C</td>\n",
       "      <td>Titanic</td>\n",
       "    </tr>\n",
       "    <tr>\n",
       "      <th>2</th>\n",
       "      <td>3</td>\n",
       "      <td>1</td>\n",
       "      <td>3</td>\n",
       "      <td>Heikkinen, Miss. Laina</td>\n",
       "      <td>female</td>\n",
       "      <td>26</td>\n",
       "      <td>0</td>\n",
       "      <td>0</td>\n",
       "      <td>STON/O2. 3101282</td>\n",
       "      <td>7,925</td>\n",
       "      <td>NaN</td>\n",
       "      <td>S</td>\n",
       "      <td>Titanic</td>\n",
       "    </tr>\n",
       "    <tr>\n",
       "      <th>3</th>\n",
       "      <td>4</td>\n",
       "      <td>1</td>\n",
       "      <td>1</td>\n",
       "      <td>Futrelle, Mrs. Jacques Heath (Lily May Peel)</td>\n",
       "      <td>female</td>\n",
       "      <td>35</td>\n",
       "      <td>1</td>\n",
       "      <td>0</td>\n",
       "      <td>113803</td>\n",
       "      <td>53,1</td>\n",
       "      <td>C123</td>\n",
       "      <td>S</td>\n",
       "      <td>Titanic</td>\n",
       "    </tr>\n",
       "    <tr>\n",
       "      <th>4</th>\n",
       "      <td>5</td>\n",
       "      <td>0</td>\n",
       "      <td>3</td>\n",
       "      <td>Allen, Mr. William Henry</td>\n",
       "      <td>male</td>\n",
       "      <td>35</td>\n",
       "      <td>0</td>\n",
       "      <td>0</td>\n",
       "      <td>373450</td>\n",
       "      <td>8,05</td>\n",
       "      <td>NaN</td>\n",
       "      <td>S</td>\n",
       "      <td>Titanic</td>\n",
       "    </tr>\n",
       "    <tr>\n",
       "      <th>...</th>\n",
       "      <td>...</td>\n",
       "      <td>...</td>\n",
       "      <td>...</td>\n",
       "      <td>...</td>\n",
       "      <td>...</td>\n",
       "      <td>...</td>\n",
       "      <td>...</td>\n",
       "      <td>...</td>\n",
       "      <td>...</td>\n",
       "      <td>...</td>\n",
       "      <td>...</td>\n",
       "      <td>...</td>\n",
       "      <td>...</td>\n",
       "    </tr>\n",
       "    <tr>\n",
       "      <th>887</th>\n",
       "      <td>888</td>\n",
       "      <td>1</td>\n",
       "      <td>1</td>\n",
       "      <td>Graham, Miss. Margaret Edith</td>\n",
       "      <td>female</td>\n",
       "      <td>19</td>\n",
       "      <td>0</td>\n",
       "      <td>0</td>\n",
       "      <td>112053</td>\n",
       "      <td>30</td>\n",
       "      <td>B42</td>\n",
       "      <td>S</td>\n",
       "      <td>Titanic</td>\n",
       "    </tr>\n",
       "    <tr>\n",
       "      <th>888</th>\n",
       "      <td>889</td>\n",
       "      <td>0</td>\n",
       "      <td>3</td>\n",
       "      <td>Johnston, Miss. Catherine Helen \"Carrie\"</td>\n",
       "      <td>female</td>\n",
       "      <td>NaN</td>\n",
       "      <td>1</td>\n",
       "      <td>2</td>\n",
       "      <td>W./C. 6607</td>\n",
       "      <td>23,45</td>\n",
       "      <td>NaN</td>\n",
       "      <td>S</td>\n",
       "      <td>Titanic</td>\n",
       "    </tr>\n",
       "    <tr>\n",
       "      <th>889</th>\n",
       "      <td>890</td>\n",
       "      <td>1</td>\n",
       "      <td>1</td>\n",
       "      <td>Behr, Mr. Karl Howell</td>\n",
       "      <td>male</td>\n",
       "      <td>26</td>\n",
       "      <td>0</td>\n",
       "      <td>0</td>\n",
       "      <td>111369</td>\n",
       "      <td>30</td>\n",
       "      <td>C148</td>\n",
       "      <td>C</td>\n",
       "      <td>Titanic</td>\n",
       "    </tr>\n",
       "    <tr>\n",
       "      <th>890</th>\n",
       "      <td>891</td>\n",
       "      <td>0</td>\n",
       "      <td>3</td>\n",
       "      <td>Dooley, Mr. Patrick</td>\n",
       "      <td>male</td>\n",
       "      <td>32</td>\n",
       "      <td>0</td>\n",
       "      <td>0</td>\n",
       "      <td>370376</td>\n",
       "      <td>7,75</td>\n",
       "      <td>NaN</td>\n",
       "      <td>Q</td>\n",
       "      <td>Titanic</td>\n",
       "    </tr>\n",
       "    <tr>\n",
       "      <th>891</th>\n",
       "      <td>1000</td>\n",
       "      <td>1</td>\n",
       "      <td>1</td>\n",
       "      <td>Mr. Frederick Maxfield Hoyt</td>\n",
       "      <td>male</td>\n",
       "      <td>38</td>\n",
       "      <td>1</td>\n",
       "      <td>0</td>\n",
       "      <td>19943</td>\n",
       "      <td>90</td>\n",
       "      <td>C93</td>\n",
       "      <td>S</td>\n",
       "      <td>Titanic</td>\n",
       "    </tr>\n",
       "  </tbody>\n",
       "</table>\n",
       "<p>892 rows × 13 columns</p>\n",
       "</div>"
      ],
      "text/plain": [
       "     PassengerId  Survived  Pclass  \\\n",
       "0              1         0       3   \n",
       "1              2         1       1   \n",
       "2              3         1       3   \n",
       "3              4         1       1   \n",
       "4              5         0       3   \n",
       "..           ...       ...     ...   \n",
       "887          888         1       1   \n",
       "888          889         0       3   \n",
       "889          890         1       1   \n",
       "890          891         0       3   \n",
       "891         1000         1       1   \n",
       "\n",
       "                                                  Name     Sex  Age  SibSp  \\\n",
       "0                              Braund, Mr. Owen Harris    male   22      1   \n",
       "1    Cumings, Mrs. John Bradley (Florence Briggs Th...  female   38      1   \n",
       "2                               Heikkinen, Miss. Laina  female   26      0   \n",
       "3         Futrelle, Mrs. Jacques Heath (Lily May Peel)  female   35      1   \n",
       "4                             Allen, Mr. William Henry    male   35      0   \n",
       "..                                                 ...     ...  ...    ...   \n",
       "887                       Graham, Miss. Margaret Edith  female   19      0   \n",
       "888           Johnston, Miss. Catherine Helen \"Carrie\"  female  NaN      1   \n",
       "889                              Behr, Mr. Karl Howell    male   26      0   \n",
       "890                                Dooley, Mr. Patrick    male   32      0   \n",
       "891                        Mr. Frederick Maxfield Hoyt    male   38      1   \n",
       "\n",
       "     Parch            Ticket     Fare Cabin Embarked     ship  \n",
       "0        0         A/5 21171     7,25   NaN        S  Titanic  \n",
       "1        0          PC 17599  71,2833   C85        C  Titanic  \n",
       "2        0  STON/O2. 3101282    7,925   NaN        S  Titanic  \n",
       "3        0            113803     53,1  C123        S  Titanic  \n",
       "4        0            373450     8,05   NaN        S  Titanic  \n",
       "..     ...               ...      ...   ...      ...      ...  \n",
       "887      0            112053       30   B42        S  Titanic  \n",
       "888      2        W./C. 6607    23,45   NaN        S  Titanic  \n",
       "889      0            111369       30  C148        C  Titanic  \n",
       "890      0            370376     7,75   NaN        Q  Titanic  \n",
       "891      0             19943       90   C93        S  Titanic  \n",
       "\n",
       "[892 rows x 13 columns]"
      ]
     },
     "metadata": {},
     "output_type": "display_data"
    }
   ],
   "source": [
    "display(tit)"
   ]
  },
  {
   "cell_type": "code",
   "execution_count": 574,
   "metadata": {},
   "outputs": [],
   "source": [
    "#### Wykorzystanie funkcji \"head\" oraz \"tail\" dla lepszej czytelności.\n"
   ]
  },
  {
   "cell_type": "code",
   "execution_count": 575,
   "metadata": {},
   "outputs": [
    {
     "data": {
      "text/html": [
       "<div>\n",
       "<style scoped>\n",
       "    .dataframe tbody tr th:only-of-type {\n",
       "        vertical-align: middle;\n",
       "    }\n",
       "\n",
       "    .dataframe tbody tr th {\n",
       "        vertical-align: top;\n",
       "    }\n",
       "\n",
       "    .dataframe thead th {\n",
       "        text-align: right;\n",
       "    }\n",
       "</style>\n",
       "<table border=\"1\" class=\"dataframe\">\n",
       "  <thead>\n",
       "    <tr style=\"text-align: right;\">\n",
       "      <th></th>\n",
       "      <th>PassengerId</th>\n",
       "      <th>Survived</th>\n",
       "      <th>Pclass</th>\n",
       "      <th>Name</th>\n",
       "      <th>Sex</th>\n",
       "      <th>Age</th>\n",
       "      <th>SibSp</th>\n",
       "      <th>Parch</th>\n",
       "      <th>Ticket</th>\n",
       "      <th>Fare</th>\n",
       "      <th>Cabin</th>\n",
       "      <th>Embarked</th>\n",
       "      <th>ship</th>\n",
       "    </tr>\n",
       "  </thead>\n",
       "  <tbody>\n",
       "    <tr>\n",
       "      <th>0</th>\n",
       "      <td>1</td>\n",
       "      <td>0</td>\n",
       "      <td>3</td>\n",
       "      <td>Braund, Mr. Owen Harris</td>\n",
       "      <td>male</td>\n",
       "      <td>22</td>\n",
       "      <td>1</td>\n",
       "      <td>0</td>\n",
       "      <td>A/5 21171</td>\n",
       "      <td>7,25</td>\n",
       "      <td>NaN</td>\n",
       "      <td>S</td>\n",
       "      <td>Titanic</td>\n",
       "    </tr>\n",
       "    <tr>\n",
       "      <th>1</th>\n",
       "      <td>2</td>\n",
       "      <td>1</td>\n",
       "      <td>1</td>\n",
       "      <td>Cumings, Mrs. John Bradley (Florence Briggs Th...</td>\n",
       "      <td>female</td>\n",
       "      <td>38</td>\n",
       "      <td>1</td>\n",
       "      <td>0</td>\n",
       "      <td>PC 17599</td>\n",
       "      <td>71,2833</td>\n",
       "      <td>C85</td>\n",
       "      <td>C</td>\n",
       "      <td>Titanic</td>\n",
       "    </tr>\n",
       "    <tr>\n",
       "      <th>2</th>\n",
       "      <td>3</td>\n",
       "      <td>1</td>\n",
       "      <td>3</td>\n",
       "      <td>Heikkinen, Miss. Laina</td>\n",
       "      <td>female</td>\n",
       "      <td>26</td>\n",
       "      <td>0</td>\n",
       "      <td>0</td>\n",
       "      <td>STON/O2. 3101282</td>\n",
       "      <td>7,925</td>\n",
       "      <td>NaN</td>\n",
       "      <td>S</td>\n",
       "      <td>Titanic</td>\n",
       "    </tr>\n",
       "    <tr>\n",
       "      <th>3</th>\n",
       "      <td>4</td>\n",
       "      <td>1</td>\n",
       "      <td>1</td>\n",
       "      <td>Futrelle, Mrs. Jacques Heath (Lily May Peel)</td>\n",
       "      <td>female</td>\n",
       "      <td>35</td>\n",
       "      <td>1</td>\n",
       "      <td>0</td>\n",
       "      <td>113803</td>\n",
       "      <td>53,1</td>\n",
       "      <td>C123</td>\n",
       "      <td>S</td>\n",
       "      <td>Titanic</td>\n",
       "    </tr>\n",
       "    <tr>\n",
       "      <th>4</th>\n",
       "      <td>5</td>\n",
       "      <td>0</td>\n",
       "      <td>3</td>\n",
       "      <td>Allen, Mr. William Henry</td>\n",
       "      <td>male</td>\n",
       "      <td>35</td>\n",
       "      <td>0</td>\n",
       "      <td>0</td>\n",
       "      <td>373450</td>\n",
       "      <td>8,05</td>\n",
       "      <td>NaN</td>\n",
       "      <td>S</td>\n",
       "      <td>Titanic</td>\n",
       "    </tr>\n",
       "  </tbody>\n",
       "</table>\n",
       "</div>"
      ],
      "text/plain": [
       "   PassengerId  Survived  Pclass  \\\n",
       "0            1         0       3   \n",
       "1            2         1       1   \n",
       "2            3         1       3   \n",
       "3            4         1       1   \n",
       "4            5         0       3   \n",
       "\n",
       "                                                Name     Sex Age  SibSp  \\\n",
       "0                            Braund, Mr. Owen Harris    male  22      1   \n",
       "1  Cumings, Mrs. John Bradley (Florence Briggs Th...  female  38      1   \n",
       "2                             Heikkinen, Miss. Laina  female  26      0   \n",
       "3       Futrelle, Mrs. Jacques Heath (Lily May Peel)  female  35      1   \n",
       "4                           Allen, Mr. William Henry    male  35      0   \n",
       "\n",
       "   Parch            Ticket     Fare Cabin Embarked     ship  \n",
       "0      0         A/5 21171     7,25   NaN        S  Titanic  \n",
       "1      0          PC 17599  71,2833   C85        C  Titanic  \n",
       "2      0  STON/O2. 3101282    7,925   NaN        S  Titanic  \n",
       "3      0            113803     53,1  C123        S  Titanic  \n",
       "4      0            373450     8,05   NaN        S  Titanic  "
      ]
     },
     "metadata": {},
     "output_type": "display_data"
    }
   ],
   "source": [
    "display(tit.head(5))"
   ]
  },
  {
   "cell_type": "code",
   "execution_count": null,
   "metadata": {},
   "outputs": [],
   "source": []
  },
  {
   "cell_type": "code",
   "execution_count": 576,
   "metadata": {},
   "outputs": [
    {
     "data": {
      "text/html": [
       "<div>\n",
       "<style scoped>\n",
       "    .dataframe tbody tr th:only-of-type {\n",
       "        vertical-align: middle;\n",
       "    }\n",
       "\n",
       "    .dataframe tbody tr th {\n",
       "        vertical-align: top;\n",
       "    }\n",
       "\n",
       "    .dataframe thead th {\n",
       "        text-align: right;\n",
       "    }\n",
       "</style>\n",
       "<table border=\"1\" class=\"dataframe\">\n",
       "  <thead>\n",
       "    <tr style=\"text-align: right;\">\n",
       "      <th></th>\n",
       "      <th>PassengerId</th>\n",
       "      <th>Survived</th>\n",
       "      <th>Pclass</th>\n",
       "      <th>Name</th>\n",
       "      <th>Sex</th>\n",
       "      <th>Age</th>\n",
       "      <th>SibSp</th>\n",
       "      <th>Parch</th>\n",
       "      <th>Ticket</th>\n",
       "      <th>Fare</th>\n",
       "      <th>Cabin</th>\n",
       "      <th>Embarked</th>\n",
       "      <th>ship</th>\n",
       "    </tr>\n",
       "  </thead>\n",
       "  <tbody>\n",
       "    <tr>\n",
       "      <th>887</th>\n",
       "      <td>888</td>\n",
       "      <td>1</td>\n",
       "      <td>1</td>\n",
       "      <td>Graham, Miss. Margaret Edith</td>\n",
       "      <td>female</td>\n",
       "      <td>19</td>\n",
       "      <td>0</td>\n",
       "      <td>0</td>\n",
       "      <td>112053</td>\n",
       "      <td>30</td>\n",
       "      <td>B42</td>\n",
       "      <td>S</td>\n",
       "      <td>Titanic</td>\n",
       "    </tr>\n",
       "    <tr>\n",
       "      <th>888</th>\n",
       "      <td>889</td>\n",
       "      <td>0</td>\n",
       "      <td>3</td>\n",
       "      <td>Johnston, Miss. Catherine Helen \"Carrie\"</td>\n",
       "      <td>female</td>\n",
       "      <td>NaN</td>\n",
       "      <td>1</td>\n",
       "      <td>2</td>\n",
       "      <td>W./C. 6607</td>\n",
       "      <td>23,45</td>\n",
       "      <td>NaN</td>\n",
       "      <td>S</td>\n",
       "      <td>Titanic</td>\n",
       "    </tr>\n",
       "    <tr>\n",
       "      <th>889</th>\n",
       "      <td>890</td>\n",
       "      <td>1</td>\n",
       "      <td>1</td>\n",
       "      <td>Behr, Mr. Karl Howell</td>\n",
       "      <td>male</td>\n",
       "      <td>26</td>\n",
       "      <td>0</td>\n",
       "      <td>0</td>\n",
       "      <td>111369</td>\n",
       "      <td>30</td>\n",
       "      <td>C148</td>\n",
       "      <td>C</td>\n",
       "      <td>Titanic</td>\n",
       "    </tr>\n",
       "    <tr>\n",
       "      <th>890</th>\n",
       "      <td>891</td>\n",
       "      <td>0</td>\n",
       "      <td>3</td>\n",
       "      <td>Dooley, Mr. Patrick</td>\n",
       "      <td>male</td>\n",
       "      <td>32</td>\n",
       "      <td>0</td>\n",
       "      <td>0</td>\n",
       "      <td>370376</td>\n",
       "      <td>7,75</td>\n",
       "      <td>NaN</td>\n",
       "      <td>Q</td>\n",
       "      <td>Titanic</td>\n",
       "    </tr>\n",
       "    <tr>\n",
       "      <th>891</th>\n",
       "      <td>1000</td>\n",
       "      <td>1</td>\n",
       "      <td>1</td>\n",
       "      <td>Mr. Frederick Maxfield Hoyt</td>\n",
       "      <td>male</td>\n",
       "      <td>38</td>\n",
       "      <td>1</td>\n",
       "      <td>0</td>\n",
       "      <td>19943</td>\n",
       "      <td>90</td>\n",
       "      <td>C93</td>\n",
       "      <td>S</td>\n",
       "      <td>Titanic</td>\n",
       "    </tr>\n",
       "  </tbody>\n",
       "</table>\n",
       "</div>"
      ],
      "text/plain": [
       "     PassengerId  Survived  Pclass                                      Name  \\\n",
       "887          888         1       1              Graham, Miss. Margaret Edith   \n",
       "888          889         0       3  Johnston, Miss. Catherine Helen \"Carrie\"   \n",
       "889          890         1       1                     Behr, Mr. Karl Howell   \n",
       "890          891         0       3                       Dooley, Mr. Patrick   \n",
       "891         1000         1       1               Mr. Frederick Maxfield Hoyt   \n",
       "\n",
       "        Sex  Age  SibSp  Parch      Ticket   Fare Cabin Embarked     ship  \n",
       "887  female   19      0      0      112053     30   B42        S  Titanic  \n",
       "888  female  NaN      1      2  W./C. 6607  23,45   NaN        S  Titanic  \n",
       "889    male   26      0      0      111369     30  C148        C  Titanic  \n",
       "890    male   32      0      0      370376   7,75   NaN        Q  Titanic  \n",
       "891    male   38      1      0       19943     90   C93        S  Titanic  "
      ]
     },
     "metadata": {},
     "output_type": "display_data"
    }
   ],
   "source": [
    "display(tit.tail(5))"
   ]
  },
  {
   "cell_type": "code",
   "execution_count": 577,
   "metadata": {},
   "outputs": [],
   "source": [
    "#### Na pierwszy rzut oka widać, że w kolumnach \"Age\", \"Cabin\" występuje brak danych, a także jedna zmienna w kolumnie \"ship\"."
   ]
  },
  {
   "cell_type": "code",
   "execution_count": 578,
   "metadata": {},
   "outputs": [],
   "source": [
    "#### Potwierdzamy, że w kolumnie \"ship\" jest wyłącznie jedna zmienna, która nie jest ważna w analizie zbioru.  "
   ]
  },
  {
   "cell_type": "code",
   "execution_count": 579,
   "metadata": {
    "scrolled": true
   },
   "outputs": [
    {
     "name": "stdout",
     "output_type": "stream",
     "text": [
      "['Titanic']\n"
     ]
    }
   ],
   "source": [
    "print(tit['ship'].unique())"
   ]
  },
  {
   "cell_type": "code",
   "execution_count": 580,
   "metadata": {},
   "outputs": [],
   "source": [
    "#### Dla analizy zbioru nie są konieczne również kolumny \"Name\" oraz \"Ticket\"."
   ]
  },
  {
   "cell_type": "code",
   "execution_count": 581,
   "metadata": {},
   "outputs": [],
   "source": [
    "#### Tworzymy zatem tabele pozbawioną powyższych kolumn."
   ]
  },
  {
   "cell_type": "code",
   "execution_count": 582,
   "metadata": {},
   "outputs": [],
   "source": [
    "tit = tit[['PassengerId', 'Survived', 'Pclass', 'Sex', 'Age', 'SibSp', 'Parch', 'Fare', 'Embarked']]"
   ]
  },
  {
   "cell_type": "code",
   "execution_count": null,
   "metadata": {},
   "outputs": [],
   "source": []
  },
  {
   "cell_type": "code",
   "execution_count": 583,
   "metadata": {},
   "outputs": [],
   "source": [
    "# Czyszczenie danych"
   ]
  },
  {
   "cell_type": "code",
   "execution_count": 584,
   "metadata": {},
   "outputs": [],
   "source": [
    "#### Wyrzucamy wszystkie 'NA' w tabeli."
   ]
  },
  {
   "cell_type": "code",
   "execution_count": 585,
   "metadata": {},
   "outputs": [
    {
     "name": "stdout",
     "output_type": "stream",
     "text": [
      "NA dropped: 175\n"
     ]
    }
   ],
   "source": [
    "def drop_na(tita):\n",
    "\n",
    "    tit = len(tita)\n",
    "    tita = tita.dropna()\n",
    "    print(\"NA dropped: {}\".format(tit - len(tita)))\n",
    "      \n",
    "tita = drop_na(tit)"
   ]
  },
  {
   "cell_type": "code",
   "execution_count": 586,
   "metadata": {},
   "outputs": [],
   "source": [
    "#### Wyrzucamy wszystkie duplikaty w tabeli."
   ]
  },
  {
   "cell_type": "code",
   "execution_count": 587,
   "metadata": {},
   "outputs": [
    {
     "name": "stdout",
     "output_type": "stream",
     "text": [
      "Duplicates dropped: 4\n"
     ]
    }
   ],
   "source": [
    "def drop_dupl(tita):\n",
    "    \n",
    "    duplicate = len(tita[tita['PassengerId'].duplicated()])\n",
    "    if duplicate > 0:\n",
    "        tita = tita.drop_duplicates(subset = 'PassengerId', keep=\"last\")\n",
    "        print (\"Duplicates dropped: {}\".format(duplicate))\n",
    "        return tita\n",
    "    else:\n",
    "        return tita\n",
    "    \n",
    "tita = drop_dupl(tit)"
   ]
  },
  {
   "cell_type": "code",
   "execution_count": 588,
   "metadata": {},
   "outputs": [],
   "source": [
    "#### Sprawdzamy czy zabieg się udał."
   ]
  },
  {
   "cell_type": "code",
   "execution_count": 589,
   "metadata": {},
   "outputs": [
    {
     "data": {
      "text/html": [
       "<div>\n",
       "<style scoped>\n",
       "    .dataframe tbody tr th:only-of-type {\n",
       "        vertical-align: middle;\n",
       "    }\n",
       "\n",
       "    .dataframe tbody tr th {\n",
       "        vertical-align: top;\n",
       "    }\n",
       "\n",
       "    .dataframe thead th {\n",
       "        text-align: right;\n",
       "    }\n",
       "</style>\n",
       "<table border=\"1\" class=\"dataframe\">\n",
       "  <thead>\n",
       "    <tr style=\"text-align: right;\">\n",
       "      <th></th>\n",
       "      <th>PassengerId</th>\n",
       "      <th>Survived</th>\n",
       "      <th>Pclass</th>\n",
       "      <th>Sex</th>\n",
       "      <th>Age</th>\n",
       "      <th>SibSp</th>\n",
       "      <th>Parch</th>\n",
       "      <th>Fare</th>\n",
       "      <th>Embarked</th>\n",
       "    </tr>\n",
       "  </thead>\n",
       "  <tbody>\n",
       "  </tbody>\n",
       "</table>\n",
       "</div>"
      ],
      "text/plain": [
       "Empty DataFrame\n",
       "Columns: [PassengerId, Survived, Pclass, Sex, Age, SibSp, Parch, Fare, Embarked]\n",
       "Index: []"
      ]
     },
     "execution_count": 589,
     "metadata": {},
     "output_type": "execute_result"
    }
   ],
   "source": [
    "tita[tita.duplicated()]"
   ]
  },
  {
   "cell_type": "code",
   "execution_count": 590,
   "metadata": {},
   "outputs": [],
   "source": [
    "#### Patrzymy jak aktualnie prezentuje się nasz zbiór danych."
   ]
  },
  {
   "cell_type": "code",
   "execution_count": 591,
   "metadata": {
    "scrolled": true
   },
   "outputs": [
    {
     "name": "stdout",
     "output_type": "stream",
     "text": [
      "<class 'pandas.core.frame.DataFrame'>\n",
      "Int64Index: 888 entries, 0 to 891\n",
      "Data columns (total 9 columns):\n",
      " #   Column       Non-Null Count  Dtype \n",
      "---  ------       --------------  ----- \n",
      " 0   PassengerId  888 non-null    int64 \n",
      " 1   Survived     888 non-null    int64 \n",
      " 2   Pclass       888 non-null    int64 \n",
      " 3   Sex          888 non-null    object\n",
      " 4   Age          715 non-null    object\n",
      " 5   SibSp        888 non-null    int64 \n",
      " 6   Parch        888 non-null    int64 \n",
      " 7   Fare         888 non-null    object\n",
      " 8   Embarked     886 non-null    object\n",
      "dtypes: int64(5), object(4)\n",
      "memory usage: 69.4+ KB\n"
     ]
    }
   ],
   "source": [
    "tita.info()"
   ]
  },
  {
   "cell_type": "code",
   "execution_count": 592,
   "metadata": {},
   "outputs": [],
   "source": [
    "#Widać niespójności w typach danych w kilku kolumnach. Sprawdzamy wartości unikalne dla każej z kolumn. "
   ]
  },
  {
   "cell_type": "code",
   "execution_count": 593,
   "metadata": {
    "scrolled": true
   },
   "outputs": [
    {
     "data": {
      "text/plain": [
       "array([   1,    2,    3,    4,    5,    6,    7,    8,    9,   10,   12,\n",
       "         13,   15,   16,   17,   18,   19,   20,   21,   22,   23,   11,\n",
       "         25,   26,   27,   28,   29,   30,   31,   32,   33,   34,   35,\n",
       "         36,   37,   38,   39,   40,   41,   42,   43,   44,   45,   46,\n",
       "         47,   48,   49,   50,   51,   52,   53,   54,   55,   56,   57,\n",
       "         58,   59,   60,   61,   62,   63,   64,   65,   66,   67,   68,\n",
       "         69,   70,   71,   72,   73,   74,   75,   76,   77,   78,   79,\n",
       "         80,   81,   82,   83,   84,   85,   86,   87,   88,   89,   90,\n",
       "         91,   92,   93,   94,   95,   96,   97,   98,   99,  100,  101,\n",
       "        102,  103,  104,  105,  106,  107,  108,  109,  110,  111,  112,\n",
       "        113,  114,  115,  116,  117,  118,  119,  120,  121,  122,  123,\n",
       "        124,  125,  126,  127,  128,  129,  130,  131,  132,  133,  134,\n",
       "        135,  136,  137,  138,  139,  140,  141,  142,  143,  144,  145,\n",
       "        146,  147,  148,  149,  150,  151,  152,  153,  154,  155,  156,\n",
       "        157,  158,  159,  160,  161,  162,  163,  164,  165,  166,  167,\n",
       "        168,  169,  170,  171,  172,  173,  174,  175,  176,  177,  178,\n",
       "        179,  180,  181,  182,  183,  184,  185,  186,  187,  188,  189,\n",
       "        190,  191,  192,  193,  194,  195,  196,  197,  198,  199,  200,\n",
       "        201,  202,  203,  204,  205,  206,  207,  208,  209,  210,  211,\n",
       "        212,  213,  214,  215,  216,  217,  218,  219,  220,  221,  222,\n",
       "        223,  224,  226,  227,  228,  229,  230,  231,  232,  233,  234,\n",
       "        235,  236,  237,  238,  239,  240,  241,  242,  243,  244,  245,\n",
       "        246,  247,  248,  249,  250,  251,  252,  253,  254,  255,  256,\n",
       "        257,  258,  259,  260,  261,  262,  263,  264,  265,  266,  267,\n",
       "        268,  269,  270,  271,  272,  273,  274,  275,  276,  277,  278,\n",
       "        279,  280,  281,  282,  283,  284,  285,  286,  287,  288,  289,\n",
       "        290,  291,  292,  293,  294,  295,  296,  297,  298,  299,  300,\n",
       "        301,  302,  303,  304,  305,  306,  307,  308,  309,  310,  311,\n",
       "        312,  313,  314,  315,  316,  317,  318,  319,  320,  321,  322,\n",
       "        323,  324,  325,  326,  327,  328,  329,  330,  331,  332,  333,\n",
       "        334,  335,  336,  337,  338,  339,  340,  341,  342,  343,  344,\n",
       "        345,  346,  347,  348,  349,  350,  351,  352,  353,  354,  355,\n",
       "        356,  357,  358,  359,  360,  361,  362,  363,  364,  365,  366,\n",
       "        367,  368,  369,  370,  371,  372,  373,  374,  375,  376,  377,\n",
       "        378,  379,  380,  381,  382,  383,  384,  385,  386,  387,  388,\n",
       "        389,  390,  391,  392,  393,  394,  395,  396,  397,  398,  399,\n",
       "        400,  401,  402,  403,  404,  405,  406,  407,  408,  409,  410,\n",
       "        411,  412,  413,  414,  415,  416,  417,  418,  419,  420,  421,\n",
       "        422,  423,  424,  425,  426,  427,  428,  429,  430,  431,  432,\n",
       "        433,  434,  435,  436,  437,  438,  439,  440,  441,  442,  443,\n",
       "        444,  445,  446,  447,  448,  449,  450,  451,  452,  453,  454,\n",
       "        455,  456,  457,  458,  459,  460,  461,  462,  463,  464,  465,\n",
       "        466,  467,  468,  469,  470,  471,  472,  473,  474,  475,  476,\n",
       "        477,  478,  479,  480,  481,  482,  483,  484,  485,  486,  487,\n",
       "        488,  489,  490,  491,  492,  493,  494,  495,  496,  497,  498,\n",
       "        499,  500,  501,  502,  503,  504,  505,  506,  507,  508,  509,\n",
       "        510,  511,  512,  513,  514,  515,  516,  517,  518,  519,  520,\n",
       "        522,  523,  524,  525,  526,  527,  528,  529,  530,  531,  532,\n",
       "        533,  534,  535,  536,  537,  538,  539,  540,  541,  542,  543,\n",
       "        544,  545,  546,  547,  548,  549,  550,  551,  552,  553,  554,\n",
       "        555,  556,  557,  558,  559,  560,  561,  562,  563,  564,  565,\n",
       "        566,  567,  568,  569,  570,  571,  572,  573,  574,  575,  576,\n",
       "        577,  578,  579,  580,  581,  582,  583,  584,  585,  586,  587,\n",
       "        588,  589,  590,  591,  592,  593,  594,  595,  596,  597,  598,\n",
       "        599,  600,  601,  602,  603,  604,  605,  606,  607,  608,  609,\n",
       "        610,  611,  612,  613,  614,  615,  616,  617,  618,  619,  620,\n",
       "        621,  622,  623,  624,  625,  626,  627,  628,  629,  630,  631,\n",
       "        632,  633,  634,  635,  636,  637,  638,  639,  640,  641,  642,\n",
       "        643,  644,  645,  646,  647,  648,  649,  650,  651,  652,  653,\n",
       "        654,  655,  656,  657,  658,  659,  660,  661,  662,  663,  664,\n",
       "        665,  666,  667,  668,  669,  670,  671,  672,  673,  674,  675,\n",
       "        676,  677,  678,  225,  680,  681,  682,  683,  684,  685,  686,\n",
       "        687,  688,  689,  690,  691,  692,  693,  694,  695,  696,  697,\n",
       "        698,  699,  700,  701,  702,  703,  704,  705,  706,  707,  708,\n",
       "        709,  710,  711,  712,  713,  714,  715,  716,  717,  718,  719,\n",
       "        720,  721,  722,  723,  724,  725,  726,  727,  728,  729,  730,\n",
       "        731,  732,  733,  734,  735,  736,  737,  738,  739,  740,  741,\n",
       "        742,  743,  744,  745,  746,  747,  748,  749,  750,  751,  752,\n",
       "        753,  754,  755,  756,  757,  758,  759,  760,  761,  762,  763,\n",
       "        764,  765,  766,  767,  768,  769,  770,  771,  772,  773,  774,\n",
       "        775,  776,  777,  778,  779,  780,  781,  782,  783,  784,  785,\n",
       "        786,  787,  788,  789,  790,  791,  792,  793,  794,  795,  796,\n",
       "        797,  798,  799,  800,  801,  802,  803,  804,  805,  806,  807,\n",
       "        808,  809,  810,  811,  812,  813,  814,  815,  816,  817,  818,\n",
       "        819,  820,  821,  822,  823,  824,  825,  826,  827,  828,  829,\n",
       "        830,  831,  832,  833,  834,  835,  836,  837,  838,  839,  840,\n",
       "        841,  842,  843,  844,  845,  846,  847,  848,  849,  850,  851,\n",
       "        852,  853,  854,  855,  856,  857,  858,  859,  860,  861,  862,\n",
       "        863,  864,  865,  866,  867,  868,  869,  870,  871,  872,  873,\n",
       "        874,  875,  876,  877,  878,  879,  880,  881,  882,  883,  884,\n",
       "        885,  886,  887,  888,  889,  890,  891, 1000], dtype=int64)"
      ]
     },
     "execution_count": 593,
     "metadata": {},
     "output_type": "execute_result"
    }
   ],
   "source": [
    "tita.PassengerId.unique()"
   ]
  },
  {
   "cell_type": "code",
   "execution_count": 594,
   "metadata": {},
   "outputs": [
    {
     "data": {
      "text/plain": [
       "array([0, 1], dtype=int64)"
      ]
     },
     "execution_count": 594,
     "metadata": {},
     "output_type": "execute_result"
    }
   ],
   "source": [
    "tita.Survived.unique()"
   ]
  },
  {
   "cell_type": "code",
   "execution_count": 595,
   "metadata": {},
   "outputs": [
    {
     "data": {
      "text/plain": [
       "array([3, 1, 2], dtype=int64)"
      ]
     },
     "execution_count": 595,
     "metadata": {},
     "output_type": "execute_result"
    }
   ],
   "source": [
    "tita.Pclass.unique()"
   ]
  },
  {
   "cell_type": "code",
   "execution_count": 596,
   "metadata": {},
   "outputs": [
    {
     "data": {
      "text/plain": [
       "array(['male', 'female', 'malef', 'mal', 'fem', 'femmale'], dtype=object)"
      ]
     },
     "execution_count": 596,
     "metadata": {},
     "output_type": "execute_result"
    }
   ],
   "source": [
    "tita.Sex.unique()"
   ]
  },
  {
   "cell_type": "code",
   "execution_count": 597,
   "metadata": {},
   "outputs": [],
   "source": [
    "##### Kolumna \"Sex\" wymaga manualnej korekcji, ponieważ występują w niej literówki."
   ]
  },
  {
   "cell_type": "code",
   "execution_count": 598,
   "metadata": {},
   "outputs": [],
   "source": [
    "tita = tita.copy()\n",
    "tita['Sex'] = tita['Sex'].replace({'malef': 'male', 'mal': 'male', 'femmale': 'female','fem' : 'female'})"
   ]
  },
  {
   "cell_type": "code",
   "execution_count": 599,
   "metadata": {},
   "outputs": [
    {
     "name": "stdout",
     "output_type": "stream",
     "text": [
      "['male' 'female']\n"
     ]
    }
   ],
   "source": [
    "print(tita['Sex'].unique())"
   ]
  },
  {
   "cell_type": "code",
   "execution_count": 600,
   "metadata": {},
   "outputs": [],
   "source": [
    "#### Udało się naprawić kolumne \"Sex\"."
   ]
  },
  {
   "cell_type": "code",
   "execution_count": 601,
   "metadata": {},
   "outputs": [
    {
     "data": {
      "text/plain": [
       "array([1, 0, 3, 4, 2, 5, 8], dtype=int64)"
      ]
     },
     "execution_count": 601,
     "metadata": {},
     "output_type": "execute_result"
    }
   ],
   "source": [
    "tita.SibSp.unique()"
   ]
  },
  {
   "cell_type": "code",
   "execution_count": 602,
   "metadata": {},
   "outputs": [
    {
     "data": {
      "text/plain": [
       "array([0, 1, 2, 5, 3, 4], dtype=int64)"
      ]
     },
     "execution_count": 602,
     "metadata": {},
     "output_type": "execute_result"
    }
   ],
   "source": [
    "tita.Parch.unique()"
   ]
  },
  {
   "cell_type": "code",
   "execution_count": 603,
   "metadata": {},
   "outputs": [
    {
     "data": {
      "text/plain": [
       "array(['7,25', '71,2833', '7,925', '53,1', '8,05', '8,4583', '51,8625',\n",
       "       '21,075', '11,1333', '30,0708', '26,55', '7,8542', '16', '29,125',\n",
       "       '13', '18', '7,225', '26', '8,0292', '16,7', '31,3875', '263',\n",
       "       '7,8792', '7,8958', '27,7208', '146,5208', '7,75', '10,5',\n",
       "       '82,1708', '52', '7,2292', '11,2417', '9,475', '21', '41,5792',\n",
       "       '15,5', '21,6792', '17,8', '39,6875', '7,8', '76,7292', '61,9792',\n",
       "       '35,5', '27,75', '46,9', '80', '83,475', '27,9', '15,2458',\n",
       "       '8,1583', '8,6625', '73,5', '14,4542', '56,4958', '7,65', '29',\n",
       "       '12,475', '9', '9,5', '7,7875', '47,1', '15,85', '34,375',\n",
       "       '61,175', '20,575', '34,6542', '63,3583', '23', '77,2875',\n",
       "       '8,6542', '7,775', '24,15', '9,825', '14,4583', '247,5208',\n",
       "       '31,275', '7,1417', '22,3583', '6,975', '7,05', '14,5', '15,0458',\n",
       "       '26,2833', '9,2167', '79,2', '6,75', '11,5', '36,75', '7,7958',\n",
       "       '12,525', '66,6', '7,3125', '61,3792', '7,7333', '69,55', '16,1',\n",
       "       '15,75', '20,525', '55', '25,925', '33,5', '30,6958', '25,4667',\n",
       "       '28,7125', '0', '15,05', '39', '22,025', '50', '8,4042', '6,4958',\n",
       "       '10,4625', '18,7875', '31', '113,275', '27', '76,2917', '9,35',\n",
       "       '13,5', '7,55', '26,25', '12,275', '7,125', '-90', '52,5542',\n",
       "       '20,2125', '86,5', '512,3292', '79,65', '153,4625', '135,6333',\n",
       "       '19,5', '29,7', '77,9583', '20,25', '78,85', '91,0792', '12,875',\n",
       "       '8,85', '151,55', '30,5', '23,25', '12,35', '110,8833', '108,9',\n",
       "       '24', '56,9292', '83,1583', '262,375', '14', '164,8667', '134,5',\n",
       "       '6,2375', '57,9792', '28,5', '133,65', '15,9', '9,225', '35',\n",
       "       '75,25', '69,3', '55,4417', '211,5', '4,0125', '227,525',\n",
       "       '15,7417', '7,7292', '12', '120', '12,65', '18,75', '6,8583', '90',\n",
       "       '32,5', '7,875', '14,4', '55,9', '8,1125', '81,8583', '19,2583',\n",
       "       '19,9667', '89,1042', '38,5', '7,725', '13,7917', '9,8375',\n",
       "       '7,0458', '7,5208', '12,2875', '9,5875', '15,9a', '49,5042',\n",
       "       '78,2667', '15,1', '7,6292', '22,525', '26,2875', '59,4', '7,4958',\n",
       "       '34,0208', '221,7792', '106,425', '49,5', '71', '13,8625',\n",
       "       '7,8292', '39,6', '17,4', '51,4792', '26,3875', '30', '40,125',\n",
       "       '8,7125', '15', '33', '42,4', '15,55', '65', '32,3208', '7,0542',\n",
       "       '8,4333', '25,5875', '9,8417', '8,1375', '10,1708', '211,3375',\n",
       "       '57', '13,4167', '7,7417', '9,4833', '7,7375', '8,3625', '23,45',\n",
       "       '25,9292', '8,6833', '8,5167', '7,8875', '37,0042', '6,45', '93,5',\n",
       "       '6,95', '8,3', '6,4375', '39,4', '14,1083', '13,8583', '50,4958',\n",
       "       '5', '9,8458', '10,5167'], dtype=object)"
      ]
     },
     "execution_count": 603,
     "metadata": {},
     "output_type": "execute_result"
    }
   ],
   "source": [
    "tita.Fare.unique()"
   ]
  },
  {
   "cell_type": "code",
   "execution_count": 604,
   "metadata": {},
   "outputs": [],
   "source": [
    "#### Podobny problem jak w kolumnie \"Sex\" w kolumnie \"Embarked\". Wymaga manualnej korekcji."
   ]
  },
  {
   "cell_type": "code",
   "execution_count": 605,
   "metadata": {},
   "outputs": [
    {
     "data": {
      "text/plain": [
       "array(['S', 'C', 'Q', 'So', nan, 'Co', 'Qe'], dtype=object)"
      ]
     },
     "execution_count": 605,
     "metadata": {},
     "output_type": "execute_result"
    }
   ],
   "source": [
    "tita.Embarked.unique()"
   ]
  },
  {
   "cell_type": "code",
   "execution_count": 606,
   "metadata": {},
   "outputs": [],
   "source": [
    "tita = tita.copy()\n",
    "tita['Embarked'] = tita['Embarked'].replace({'So':'S', 'Qe':'Q', 'Co':'C', 'nan':'NaN'})\n"
   ]
  },
  {
   "cell_type": "code",
   "execution_count": null,
   "metadata": {},
   "outputs": [],
   "source": []
  },
  {
   "cell_type": "code",
   "execution_count": 607,
   "metadata": {},
   "outputs": [
    {
     "data": {
      "text/plain": [
       "array(['S', 'C', 'Q', nan], dtype=object)"
      ]
     },
     "execution_count": 607,
     "metadata": {},
     "output_type": "execute_result"
    }
   ],
   "source": [
    "tita.Embarked.unique()\n"
   ]
  },
  {
   "cell_type": "code",
   "execution_count": 608,
   "metadata": {},
   "outputs": [],
   "source": [
    "#### Udało się częściowo poprawić kolumne, pozostał jeszcze 'nan', który można usunąć za pomocą \"pandas dropna by inplace\""
   ]
  },
  {
   "cell_type": "code",
   "execution_count": 609,
   "metadata": {},
   "outputs": [],
   "source": [
    "tita.dropna(inplace=True)\n"
   ]
  },
  {
   "cell_type": "code",
   "execution_count": 610,
   "metadata": {},
   "outputs": [
    {
     "data": {
      "text/plain": [
       "array(['S', 'C', 'Q'], dtype=object)"
      ]
     },
     "execution_count": 610,
     "metadata": {},
     "output_type": "execute_result"
    }
   ],
   "source": [
    "tita.Embarked.unique()\n"
   ]
  },
  {
   "cell_type": "code",
   "execution_count": 611,
   "metadata": {},
   "outputs": [],
   "source": [
    "#### Udało się, mamy właściwie poprawioną kolumnę. "
   ]
  },
  {
   "cell_type": "code",
   "execution_count": 612,
   "metadata": {},
   "outputs": [
    {
     "data": {
      "text/plain": [
       "array([0, 1], dtype=int64)"
      ]
     },
     "execution_count": 612,
     "metadata": {},
     "output_type": "execute_result"
    }
   ],
   "source": [
    "tita.Survived.unique()"
   ]
  },
  {
   "cell_type": "code",
   "execution_count": 613,
   "metadata": {},
   "outputs": [
    {
     "data": {
      "text/plain": [
       "array(['22', '38', '26', '35', '54', '2', '27', '14', '58', '20', '55',\n",
       "       '31', '34', '15', '4', '8', '19', '40', '.9', '66', '28', '42',\n",
       "       '21', '18', '3', '7', '49', '29', '65', '28,5', '5', '11', '45',\n",
       "       '17', '32', '16', '25', '0,83', '30', '33', '23', '24', '46', '59',\n",
       "       '71', '37', '47', '14,5', '70,5', '32,5', '12', '9', '36,5', '51',\n",
       "       '55,5', '40,5', '44', '1', '61', '56', '50', '36', '45,5', '4435',\n",
       "       '20,5', '62', '41', '52', '63', '23,5', '0,92', '43', '60', '39',\n",
       "       '10', '64', '13', '48', '0,75', '-3', '-12', '53', '57', '80',\n",
       "       '250', '70', '24,5', '6', '0,67', '30,5', '0,42', '34,5', '74'],\n",
       "      dtype=object)"
      ]
     },
     "execution_count": 613,
     "metadata": {},
     "output_type": "execute_result"
    }
   ],
   "source": [
    "tita.Age.unique()"
   ]
  },
  {
   "cell_type": "code",
   "execution_count": null,
   "metadata": {},
   "outputs": [],
   "source": []
  },
  {
   "cell_type": "code",
   "execution_count": 614,
   "metadata": {},
   "outputs": [],
   "source": [
    "#### Podczas monitorowania kolumny \"Age\" widać niespójności w danych: \n",
    "#### 1) Występują wartości nieralne (4435, 250)\n",
    "#### 2) Oraz wiek jest podany w wartościach dziesiętnych i ujemnych"
   ]
  },
  {
   "cell_type": "code",
   "execution_count": 615,
   "metadata": {},
   "outputs": [],
   "source": [
    "tAge = tita['Age'].value_counts().to_dict()"
   ]
  },
  {
   "cell_type": "code",
   "execution_count": 616,
   "metadata": {},
   "outputs": [
    {
     "data": {
      "text/plain": [
       "{'24': 30,\n",
       " '22': 27,\n",
       " '18': 26,\n",
       " '19': 25,\n",
       " '28': 24,\n",
       " '30': 24,\n",
       " '21': 24,\n",
       " '25': 22,\n",
       " '36': 22,\n",
       " '29': 20,\n",
       " '27': 18,\n",
       " '26': 18,\n",
       " '32': 18,\n",
       " '35': 18,\n",
       " '16': 17,\n",
       " '31': 17,\n",
       " '34': 15,\n",
       " '23': 15,\n",
       " '20': 15,\n",
       " '33': 15,\n",
       " '39': 13,\n",
       " '42': 13,\n",
       " '40': 13,\n",
       " '17': 13,\n",
       " '45': 12,\n",
       " '38': 11,\n",
       " '2': 10,\n",
       " '4': 10,\n",
       " '50': 10,\n",
       " '44': 9,\n",
       " '48': 9,\n",
       " '47': 9,\n",
       " '54': 8,\n",
       " '9': 8,\n",
       " '1': 7,\n",
       " '51': 7,\n",
       " '41': 6,\n",
       " '52': 6,\n",
       " '37': 6,\n",
       " '49': 6,\n",
       " '3': 6,\n",
       " '14': 6,\n",
       " '15': 5,\n",
       " '58': 5,\n",
       " '43': 4,\n",
       " '60': 4,\n",
       " '8': 4,\n",
       " '56': 4,\n",
       " '5': 4,\n",
       " '11': 4,\n",
       " '6': 3,\n",
       " '46': 3,\n",
       " '65': 3,\n",
       " '7': 3,\n",
       " '62': 3,\n",
       " '61': 3,\n",
       " '70': 2,\n",
       " '64': 2,\n",
       " '0,83': 2,\n",
       " '55': 2,\n",
       " '59': 2,\n",
       " '0,75': 2,\n",
       " '28,5': 2,\n",
       " '57': 2,\n",
       " '63': 2,\n",
       " '40,5': 2,\n",
       " '10': 2,\n",
       " '32,5': 2,\n",
       " '13': 2,\n",
       " '45,5': 2,\n",
       " '71': 2,\n",
       " '30,5': 2,\n",
       " '0,92': 1,\n",
       " '250': 1,\n",
       " '0,42': 1,\n",
       " '53': 1,\n",
       " '0,67': 1,\n",
       " '.9': 1,\n",
       " '66': 1,\n",
       " '4435': 1,\n",
       " '23,5': 1,\n",
       " '20,5': 1,\n",
       " '70,5': 1,\n",
       " '24,5': 1,\n",
       " '14,5': 1,\n",
       " '-3': 1,\n",
       " '80': 1,\n",
       " '74': 1,\n",
       " '12': 1,\n",
       " '34,5': 1,\n",
       " '55,5': 1,\n",
       " '36,5': 1,\n",
       " '-12': 1}"
      ]
     },
     "metadata": {},
     "output_type": "display_data"
    }
   ],
   "source": [
    "display(tAge)"
   ]
  },
  {
   "cell_type": "code",
   "execution_count": 617,
   "metadata": {},
   "outputs": [],
   "source": [
    "tita = tita[tita.Age.apply(lambda x: x.isnumeric())]"
   ]
  },
  {
   "cell_type": "code",
   "execution_count": 618,
   "metadata": {},
   "outputs": [],
   "source": [
    "tita = tita.astype({'Age': int, 'Survived': bool})"
   ]
  },
  {
   "cell_type": "code",
   "execution_count": 619,
   "metadata": {},
   "outputs": [
    {
     "name": "stdout",
     "output_type": "stream",
     "text": [
      "     PassengerId  Survived  Pclass   Sex   Age  SibSp  Parch    Fare Embarked\n",
      "223          224     False       3  male  4435      0      0  7,8958        S\n",
      "666          667     False       2  male   250      0      0      13        S\n"
     ]
    }
   ],
   "source": [
    "print(tita[tita['Age'] > 100])\n",
    "tita = tita[tita['Age'] < 100]"
   ]
  },
  {
   "cell_type": "code",
   "execution_count": 620,
   "metadata": {},
   "outputs": [
    {
     "name": "stdout",
     "output_type": "stream",
     "text": [
      "min_age : 1  <<--->>  80 : max_age\n"
     ]
    }
   ],
   "source": [
    "print('min_age :', tita['Age'].min(),' <<--->> ',tita['Age'].max(),\": max_age\")"
   ]
  },
  {
   "cell_type": "code",
   "execution_count": null,
   "metadata": {},
   "outputs": [],
   "source": []
  },
  {
   "cell_type": "code",
   "execution_count": 621,
   "metadata": {},
   "outputs": [],
   "source": [
    "#### Sprawdzamy poraz kolejny jak wyglada kolumna.\n"
   ]
  },
  {
   "cell_type": "code",
   "execution_count": 622,
   "metadata": {},
   "outputs": [
    {
     "data": {
      "text/html": [
       "<div>\n",
       "<style scoped>\n",
       "    .dataframe tbody tr th:only-of-type {\n",
       "        vertical-align: middle;\n",
       "    }\n",
       "\n",
       "    .dataframe tbody tr th {\n",
       "        vertical-align: top;\n",
       "    }\n",
       "\n",
       "    .dataframe thead th {\n",
       "        text-align: right;\n",
       "    }\n",
       "</style>\n",
       "<table border=\"1\" class=\"dataframe\">\n",
       "  <thead>\n",
       "    <tr style=\"text-align: right;\">\n",
       "      <th></th>\n",
       "      <th>PassengerId</th>\n",
       "      <th>Survived</th>\n",
       "      <th>Pclass</th>\n",
       "      <th>Sex</th>\n",
       "      <th>Age</th>\n",
       "      <th>SibSp</th>\n",
       "      <th>Parch</th>\n",
       "      <th>Fare</th>\n",
       "      <th>Embarked</th>\n",
       "    </tr>\n",
       "  </thead>\n",
       "  <tbody>\n",
       "    <tr>\n",
       "      <th>0</th>\n",
       "      <td>1</td>\n",
       "      <td>False</td>\n",
       "      <td>3</td>\n",
       "      <td>male</td>\n",
       "      <td>22</td>\n",
       "      <td>1</td>\n",
       "      <td>0</td>\n",
       "      <td>7,25</td>\n",
       "      <td>S</td>\n",
       "    </tr>\n",
       "    <tr>\n",
       "      <th>1</th>\n",
       "      <td>2</td>\n",
       "      <td>True</td>\n",
       "      <td>1</td>\n",
       "      <td>female</td>\n",
       "      <td>38</td>\n",
       "      <td>1</td>\n",
       "      <td>0</td>\n",
       "      <td>71,2833</td>\n",
       "      <td>C</td>\n",
       "    </tr>\n",
       "    <tr>\n",
       "      <th>2</th>\n",
       "      <td>3</td>\n",
       "      <td>True</td>\n",
       "      <td>3</td>\n",
       "      <td>female</td>\n",
       "      <td>26</td>\n",
       "      <td>0</td>\n",
       "      <td>0</td>\n",
       "      <td>7,925</td>\n",
       "      <td>S</td>\n",
       "    </tr>\n",
       "    <tr>\n",
       "      <th>3</th>\n",
       "      <td>4</td>\n",
       "      <td>True</td>\n",
       "      <td>1</td>\n",
       "      <td>female</td>\n",
       "      <td>35</td>\n",
       "      <td>1</td>\n",
       "      <td>0</td>\n",
       "      <td>53,1</td>\n",
       "      <td>S</td>\n",
       "    </tr>\n",
       "    <tr>\n",
       "      <th>4</th>\n",
       "      <td>5</td>\n",
       "      <td>False</td>\n",
       "      <td>3</td>\n",
       "      <td>male</td>\n",
       "      <td>35</td>\n",
       "      <td>0</td>\n",
       "      <td>0</td>\n",
       "      <td>8,05</td>\n",
       "      <td>S</td>\n",
       "    </tr>\n",
       "    <tr>\n",
       "      <th>...</th>\n",
       "      <td>...</td>\n",
       "      <td>...</td>\n",
       "      <td>...</td>\n",
       "      <td>...</td>\n",
       "      <td>...</td>\n",
       "      <td>...</td>\n",
       "      <td>...</td>\n",
       "      <td>...</td>\n",
       "      <td>...</td>\n",
       "    </tr>\n",
       "    <tr>\n",
       "      <th>886</th>\n",
       "      <td>887</td>\n",
       "      <td>False</td>\n",
       "      <td>2</td>\n",
       "      <td>male</td>\n",
       "      <td>27</td>\n",
       "      <td>0</td>\n",
       "      <td>0</td>\n",
       "      <td>13</td>\n",
       "      <td>S</td>\n",
       "    </tr>\n",
       "    <tr>\n",
       "      <th>887</th>\n",
       "      <td>888</td>\n",
       "      <td>True</td>\n",
       "      <td>1</td>\n",
       "      <td>female</td>\n",
       "      <td>19</td>\n",
       "      <td>0</td>\n",
       "      <td>0</td>\n",
       "      <td>30</td>\n",
       "      <td>S</td>\n",
       "    </tr>\n",
       "    <tr>\n",
       "      <th>889</th>\n",
       "      <td>890</td>\n",
       "      <td>True</td>\n",
       "      <td>1</td>\n",
       "      <td>male</td>\n",
       "      <td>26</td>\n",
       "      <td>0</td>\n",
       "      <td>0</td>\n",
       "      <td>30</td>\n",
       "      <td>C</td>\n",
       "    </tr>\n",
       "    <tr>\n",
       "      <th>890</th>\n",
       "      <td>891</td>\n",
       "      <td>False</td>\n",
       "      <td>3</td>\n",
       "      <td>male</td>\n",
       "      <td>32</td>\n",
       "      <td>0</td>\n",
       "      <td>0</td>\n",
       "      <td>7,75</td>\n",
       "      <td>Q</td>\n",
       "    </tr>\n",
       "    <tr>\n",
       "      <th>891</th>\n",
       "      <td>1000</td>\n",
       "      <td>True</td>\n",
       "      <td>1</td>\n",
       "      <td>male</td>\n",
       "      <td>38</td>\n",
       "      <td>1</td>\n",
       "      <td>0</td>\n",
       "      <td>90</td>\n",
       "      <td>S</td>\n",
       "    </tr>\n",
       "  </tbody>\n",
       "</table>\n",
       "<p>683 rows × 9 columns</p>\n",
       "</div>"
      ],
      "text/plain": [
       "     PassengerId  Survived  Pclass     Sex  Age  SibSp  Parch     Fare  \\\n",
       "0              1     False       3    male   22      1      0     7,25   \n",
       "1              2      True       1  female   38      1      0  71,2833   \n",
       "2              3      True       3  female   26      0      0    7,925   \n",
       "3              4      True       1  female   35      1      0     53,1   \n",
       "4              5     False       3    male   35      0      0     8,05   \n",
       "..           ...       ...     ...     ...  ...    ...    ...      ...   \n",
       "886          887     False       2    male   27      0      0       13   \n",
       "887          888      True       1  female   19      0      0       30   \n",
       "889          890      True       1    male   26      0      0       30   \n",
       "890          891     False       3    male   32      0      0     7,75   \n",
       "891         1000      True       1    male   38      1      0       90   \n",
       "\n",
       "    Embarked  \n",
       "0          S  \n",
       "1          C  \n",
       "2          S  \n",
       "3          S  \n",
       "4          S  \n",
       "..       ...  \n",
       "886        S  \n",
       "887        S  \n",
       "889        C  \n",
       "890        Q  \n",
       "891        S  \n",
       "\n",
       "[683 rows x 9 columns]"
      ]
     },
     "execution_count": 622,
     "metadata": {},
     "output_type": "execute_result"
    }
   ],
   "source": [
    "tita"
   ]
  },
  {
   "cell_type": "code",
   "execution_count": 623,
   "metadata": {},
   "outputs": [],
   "source": [
    "#### Sprawdzamy ponownie wartości unikalne zbioru."
   ]
  },
  {
   "cell_type": "code",
   "execution_count": 624,
   "metadata": {},
   "outputs": [],
   "source": [
    "def finalTest(test):\n",
    "    \n",
    "    try:\n",
    "        print(10*\">\" + ' ' + test + ' ' +10*\"<\")\n",
    "        print(45*'-')\n",
    "        print('')\n",
    "    except:\n",
    "        print('Error')\n",
    "        \n",
    "def valueCounts(tita):\n",
    "    \n",
    "    num_of_cols = len(tita.columns)\n",
    "    \n",
    "    for i, j in enumerate(tita.columns):\n",
    "        print('')\n",
    "        print('')\n",
    "        print(10*'*',j,10*'*')\n",
    "        finalTest(\"Test --> {}\".format(j))\n",
    "        print(tita[j].value_counts())"
   ]
  },
  {
   "cell_type": "code",
   "execution_count": 625,
   "metadata": {},
   "outputs": [
    {
     "name": "stdout",
     "output_type": "stream",
     "text": [
      "\n",
      "\n",
      "********** PassengerId **********\n",
      ">>>>>>>>>> Test --> PassengerId <<<<<<<<<<\n",
      "---------------------------------------------\n",
      "\n",
      "1000    1\n",
      "295     1\n",
      "312     1\n",
      "311     1\n",
      "310     1\n",
      "       ..\n",
      "600     1\n",
      "598     1\n",
      "596     1\n",
      "595     1\n",
      "1       1\n",
      "Name: PassengerId, Length: 683, dtype: int64\n",
      "\n",
      "\n",
      "********** Survived **********\n",
      ">>>>>>>>>> Test --> Survived <<<<<<<<<<\n",
      "---------------------------------------------\n",
      "\n",
      "False    404\n",
      "True     279\n",
      "Name: Survived, dtype: int64\n",
      "\n",
      "\n",
      "********** Pclass **********\n",
      ">>>>>>>>>> Test --> Pclass <<<<<<<<<<\n",
      "---------------------------------------------\n",
      "\n",
      "3    336\n",
      "1    181\n",
      "2    166\n",
      "Name: Pclass, dtype: int64\n",
      "\n",
      "\n",
      "********** Sex **********\n",
      ">>>>>>>>>> Test --> Sex <<<<<<<<<<\n",
      "---------------------------------------------\n",
      "\n",
      "male      431\n",
      "female    252\n",
      "Name: Sex, dtype: int64\n",
      "\n",
      "\n",
      "********** Age **********\n",
      ">>>>>>>>>> Test --> Age <<<<<<<<<<\n",
      "---------------------------------------------\n",
      "\n",
      "24    30\n",
      "22    27\n",
      "18    26\n",
      "19    25\n",
      "30    24\n",
      "      ..\n",
      "74     1\n",
      "66     1\n",
      "12     1\n",
      "53     1\n",
      "80     1\n",
      "Name: Age, Length: 70, dtype: int64\n",
      "\n",
      "\n",
      "********** SibSp **********\n",
      ">>>>>>>>>> Test --> SibSp <<<<<<<<<<\n",
      "---------------------------------------------\n",
      "\n",
      "0    448\n",
      "1    177\n",
      "2     23\n",
      "4     18\n",
      "3     12\n",
      "5      5\n",
      "Name: SibSp, dtype: int64\n",
      "\n",
      "\n",
      "********** Parch **********\n",
      ">>>>>>>>>> Test --> Parch <<<<<<<<<<\n",
      "---------------------------------------------\n",
      "\n",
      "0    501\n",
      "1    105\n",
      "2     64\n",
      "3      5\n",
      "5      4\n",
      "4      4\n",
      "Name: Parch, dtype: int64\n",
      "\n",
      "\n",
      "********** Fare **********\n",
      ">>>>>>>>>> Test --> Fare <<<<<<<<<<\n",
      "---------------------------------------------\n",
      "\n",
      "13         39\n",
      "26         29\n",
      "8,05       26\n",
      "10,5       24\n",
      "7,8958     23\n",
      "           ..\n",
      "15          1\n",
      "12,275      1\n",
      "61,3792     1\n",
      "13,4167     1\n",
      "8,6542      1\n",
      "Name: Fare, Length: 218, dtype: int64\n",
      "\n",
      "\n",
      "********** Embarked **********\n",
      ">>>>>>>>>> Test --> Embarked <<<<<<<<<<\n",
      "---------------------------------------------\n",
      "\n",
      "S    537\n",
      "C    121\n",
      "Q     25\n",
      "Name: Embarked, dtype: int64\n"
     ]
    }
   ],
   "source": [
    "valueCounts(tita)"
   ]
  },
  {
   "cell_type": "code",
   "execution_count": 626,
   "metadata": {},
   "outputs": [],
   "source": [
    "#### Wydaje się, że plik został oczyszczony właściwie."
   ]
  },
  {
   "cell_type": "code",
   "execution_count": 627,
   "metadata": {},
   "outputs": [],
   "source": [
    "#### Na koniec zapisujemy finalny plik do \"TitanicCleaned.tsv\""
   ]
  },
  {
   "cell_type": "code",
   "execution_count": 628,
   "metadata": {},
   "outputs": [],
   "source": [
    "tita.to_csv('TitanicCleaned.tsv', index = False)"
   ]
  },
  {
   "cell_type": "code",
   "execution_count": null,
   "metadata": {},
   "outputs": [],
   "source": []
  },
  {
   "cell_type": "code",
   "execution_count": 629,
   "metadata": {},
   "outputs": [],
   "source": [
    "# Wnioski"
   ]
  },
  {
   "cell_type": "code",
   "execution_count": 630,
   "metadata": {},
   "outputs": [],
   "source": [
    "#### Roboczy zestaw danych wymagał kilku istotnych zabiegów by doprowadzić go do właściwej formy. Należało usunąć wiersze z brakującymi danycmi, usunąć duplikaty, zmienić typy danych w konkretnych kolumnach a także usunięcia kolumn nieistotnych w analizie. "
   ]
  },
  {
   "cell_type": "code",
   "execution_count": null,
   "metadata": {},
   "outputs": [],
   "source": []
  },
  {
   "cell_type": "code",
   "execution_count": null,
   "metadata": {},
   "outputs": [],
   "source": []
  }
 ],
 "metadata": {
  "kernelspec": {
   "display_name": "Python 3",
   "language": "python",
   "name": "python3"
  },
  "language_info": {
   "codemirror_mode": {
    "name": "ipython",
    "version": 3
   },
   "file_extension": ".py",
   "mimetype": "text/x-python",
   "name": "python",
   "nbconvert_exporter": "python",
   "pygments_lexer": "ipython3",
   "version": "3.8.5"
  }
 },
 "nbformat": 4,
 "nbformat_minor": 4
}
